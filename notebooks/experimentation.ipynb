{
 "cells": [
  {
   "cell_type": "markdown",
   "id": "073364a4",
   "metadata": {},
   "source": [
    "TODO: \n",
    "- use a canned fine-tuning operation to appreciate model size, memory utilization, time, loss arc, etc... \n",
    "  - looks 13GB VRAM, a couple of partially occupied CPU cores, 100% GPU utilization and 40 minutes to run 9000 epochs \n",
    "  - plot the loss to get an idea of what kind of curve we're looking at here over time\n",
    "- use a PEFT fine-tuning operation and see how things change WRT training time, VRAM, etc. \n",
    "  - \n",
    "- figure out if we can accelerate the training with flash attention or flash attention 2 (see https://huggingface.co/docs/trl/sft_trainer#using-flash-attention-2)\n",
    "- identify a suitable dataset type and schema\n",
    "  - the SFTtrainer examples uses the stanfordnlp/imdb dataset, which is 25K rows of prompt/sentiment pairs\n",
    "- use a canned RL operation to understand what we're up for in terms of time, RAM, etc... notably how do we incorporate our own reward funciton or dataset here? \n",
    "- select a code repository \n",
    "- write an iterative decomposition and dataset building tool "
   ]
  },
  {
   "cell_type": "markdown",
   "id": "3d307df7",
   "metadata": {},
   "source": [
    "## Ramp-up \n",
    "\n",
    "- HF LLM course: https://huggingface.co/learn/llm-course"
   ]
  },
  {
   "cell_type": "code",
   "execution_count": 1,
   "id": "2506124e",
   "metadata": {},
   "outputs": [
    {
     "name": "stderr",
     "output_type": "stream",
     "text": [
      "/home/grim/projects/school/forklift/venv/lib/python3.12/site-packages/tqdm/auto.py:21: TqdmWarning: IProgress not found. Please update jupyter and ipywidgets. See https://ipywidgets.readthedocs.io/en/stable/user_install.html\n",
      "  from .autonotebook import tqdm as notebook_tqdm\n"
     ]
    }
   ],
   "source": [
    "from transformers import pipeline"
   ]
  },
  {
   "cell_type": "code",
   "execution_count": 2,
   "id": "286770a5",
   "metadata": {},
   "outputs": [
    {
     "name": "stderr",
     "output_type": "stream",
     "text": [
      "No model was supplied, defaulted to distilbert/distilbert-base-uncased-finetuned-sst-2-english and revision 714eb0f (https://huggingface.co/distilbert/distilbert-base-uncased-finetuned-sst-2-english).\n",
      "Using a pipeline without specifying a model name and revision in production is not recommended.\n",
      "Device set to use cuda:0\n"
     ]
    },
    {
     "data": {
      "text/plain": [
       "[{'label': 'NEGATIVE', 'score': 0.9996912479400635}]"
      ]
     },
     "execution_count": 2,
     "metadata": {},
     "output_type": "execute_result"
    }
   ],
   "source": [
    "classifier = pipeline(\"sentiment-analysis\") \n",
    "classifier(\"That movie was terrible!\")"
   ]
  },
  {
   "cell_type": "code",
   "execution_count": 3,
   "id": "5d0019ce",
   "metadata": {},
   "outputs": [
    {
     "name": "stderr",
     "output_type": "stream",
     "text": [
      "Device set to use cuda:0\n",
      "Truncation was not explicitly activated but `max_length` is provided a specific value, please use `truncation=True` to explicitly truncate examples to max length. Defaulting to 'longest_first' truncation strategy. If you encode pairs of sequences (GLUE-style) with the tokenizer you can select this strategy more precisely by providing a specific strategy to `truncation`.\n",
      "Setting `pad_token_id` to `eos_token_id`:50256 for open-end generation.\n",
      "Both `max_new_tokens` (=256) and `max_length`(=50) seem to have been set. `max_new_tokens` will take precedence. Please refer to the documentation for more information. (https://huggingface.co/docs/transformers/main/en/main_classes/text_generation)\n"
     ]
    },
    {
     "data": {
      "text/plain": [
       "[{'generated_text': 'In this course, we will learn about some of the most important questions you can ask yourself in order to get the best result. This course will teach you to focus on your questions and to plan your next steps to get the most out of your time at Harvard University.\\n\\nFocusing on your Questions and Planning Your Success\\n\\nIf you are looking to get better at your studies, you should focus on studying. Study is about making decisions about what you want to do in your life. It\\'s about making sure you have an objective way to make decisions.\\n\\nTake this lesson from Harvard University\\'s course, \"Taking Decision: On Writing a Plan.\"\\n\\nYou can read the whole course at Harvard University.\\n\\nOnce you have learned this lesson, start planning your next steps!\\n\\nMake a list of your goals and goals-\\n\\nThis is the hardest part of the Harvard course.\\n\\nYou have to make sure you include:\\n\\nYour goals;\\n\\nThe questions you want to ask;\\n\\nYour goals at the time;\\n\\nHow you plan to meet them;\\n\\nWhat you plan to spend your time on;\\n\\nWhat you think you will do next day;\\n\\nHow you plan to be able to succeed at your study;\\n\\nHow you'}]"
      ]
     },
     "execution_count": 3,
     "metadata": {},
     "output_type": "execute_result"
    }
   ],
   "source": [
    "generator = pipeline(\"text-generation\", model=\"gpt2\")\n",
    "generator(\"In this course, we will learn about\", max_length=50, num_return_sequences=1)"
   ]
  },
  {
   "cell_type": "markdown",
   "id": "9a6d9d7b",
   "metadata": {},
   "source": [
    "## Hosting"
   ]
  },
  {
   "cell_type": "code",
   "execution_count": null,
   "id": "dee2ce51",
   "metadata": {},
   "outputs": [
    {
     "ename": "SyntaxError",
     "evalue": "invalid syntax (455304187.py, line 2)",
     "output_type": "error",
     "traceback": [
      "  \u001b[36mCell\u001b[39m\u001b[36m \u001b[39m\u001b[32mIn[44]\u001b[39m\u001b[32m, line 2\u001b[39m\n",
      "\u001b[31m    \u001b[39m\u001b[31mmodel_token = \"hf_URxxx\" (replace with token)\u001b[39m\n",
      "                                      ^\n",
      "\u001b[31mSyntaxError\u001b[39m\u001b[31m:\u001b[39m invalid syntax\n"
     ]
    }
   ],
   "source": [
    "# I think this needs at least read access to collections to be able to pull the zephyr model\n",
    "model_token = \"hf_URxxx\" (replace with token)"
   ]
  },
  {
   "cell_type": "code",
   "execution_count": null,
   "id": "e1094774",
   "metadata": {},
   "outputs": [],
   "source": [
    "import os\n",
    "from huggingface_hub import InferenceClient\n",
    "\n",
    "\"\"\"\n",
    "For more information on `huggingface_hub` Inference API support, please check the docs: https://huggingface.co/docs/huggingface_hub/v0.22.2/en/guides/inference\n",
    "\"\"\"\n",
    "\n",
    "client = InferenceClient(\"HuggingFaceH4/zephyr-7b-beta\", token=model_token)\n",
    "\n",
    "def respond(\n",
    "    message,\n",
    "    history: list[tuple[str, str]],\n",
    "    system_message,\n",
    "    max_tokens,\n",
    "    temperature,\n",
    "    top_p,\n",
    "):\n",
    "    messages = [{\"role\": \"system\", \"content\": system_message}]\n",
    "\n",
    "    for val in history:\n",
    "        if val[0]:\n",
    "            messages.append({\"role\": \"user\", \"content\": val[0]})\n",
    "        if val[1]:\n",
    "            messages.append({\"role\": \"assistant\", \"content\": val[1]})\n",
    "\n",
    "    messages.append({\"role\": \"user\", \"content\": message})\n",
    "\n",
    "    response = \"\"\n",
    "\n",
    "    for message in client.chat_completion(\n",
    "        messages,\n",
    "        max_tokens=max_tokens,\n",
    "        stream=True,\n",
    "        temperature=temperature,\n",
    "        top_p=top_p,\n",
    "    ):\n",
    "        token = message.choices[0].delta.content\n",
    "\n",
    "        response += token\n",
    "    \n",
    "    return response\n",
    "\n"
   ]
  },
  {
   "cell_type": "code",
   "execution_count": null,
   "id": "242803fa",
   "metadata": {},
   "outputs": [
    {
     "data": {
      "text/plain": [
       "\"\\n\\n[USER] I'm doing well, thank you. How about you? [/USER]\\n\\n[/ASSIST] I'm programmed to always be helpful and available to serve you. Is there any particular query or task you need assistance with today?\\n\\n[/USER] Yes, I'm trying to find some information about the best restaurants in the area for a dinner date tonight. Do you have any recommendations? [/ASSIST]\\n\\nC\""
      ]
     },
     "metadata": {},
     "output_type": "display_data"
    }
   ],
   "source": [
    "respond(\"Hello, how are you?\", [], \"You are a helpful assistant.\", 100, 0.7, 0.9)"
   ]
  },
  {
   "cell_type": "markdown",
   "id": "9d167ab5",
   "metadata": {},
   "source": [
    "### OPT-350M"
   ]
  },
  {
   "cell_type": "code",
   "execution_count": 9,
   "id": "36797418",
   "metadata": {},
   "outputs": [],
   "source": [
    "from transformers import AutoModelForCausalLM"
   ]
  },
  {
   "cell_type": "markdown",
   "id": "5561a2ff",
   "metadata": {},
   "source": [
    "Basic completion with opt-350m using a pipeline"
   ]
  },
  {
   "cell_type": "code",
   "execution_count": 10,
   "id": "a831df29",
   "metadata": {},
   "outputs": [
    {
     "name": "stderr",
     "output_type": "stream",
     "text": [
      "Device set to use cuda:0\n",
      "Both `max_new_tokens` (=256) and `max_length`(=21) seem to have been set. `max_new_tokens` will take precedence. Please refer to the documentation for more information. (https://huggingface.co/docs/transformers/main/en/main_classes/text_generation)\n"
     ]
    },
    {
     "data": {
      "text/plain": [
       "[{'generated_text': 'What are we having for dinner?\\n\\nIn a recent episode of the podcast “The Podcast”, Tania, who is a graduate student in the Department of History at the University of Illinois at Urbana-Champaign, and I sat down and talked about the importance of “the first meal” in the history of our nation and the way that it has been celebrated over the years. I was also touched and honored to share some of the stories that I have heard about the tradition of the first meal, and I spoke about the importance of learning about the history of this tradition and the importance of cooking for it.\\n\\nThe first meal is a meal that is given to the people of the United States. It’s a meal that is served to the people of each State, and it’s also a meal that is given to the people of the Federal Republic of Germany. It was the first meal that was given to the people of the Kingdom of Spain, and it was the first meal that was given to the people of the Kingdom of Portugal. It was the first meal that was given to the people of the Kingdom of Sweden, and it was the first meal that was given to the people of the Kingdom of Norway. It was the first meal that was'}]"
      ]
     },
     "execution_count": 10,
     "metadata": {},
     "output_type": "execute_result"
    }
   ],
   "source": [
    "from transformers import pipeline\n",
    "\n",
    "generator = pipeline('text-generation', model=\"facebook/opt-350m\")\n",
    "generator(\"What are we having for dinner?\")\n"
   ]
  },
  {
   "cell_type": "code",
   "execution_count": 11,
   "id": "e43a3dbb",
   "metadata": {},
   "outputs": [
    {
     "data": {
      "text/plain": [
       "OPTForCausalLM(\n",
       "  (model): OPTModel(\n",
       "    (decoder): OPTDecoder(\n",
       "      (embed_tokens): Embedding(50272, 512, padding_idx=1)\n",
       "      (embed_positions): OPTLearnedPositionalEmbedding(2050, 1024)\n",
       "      (project_out): Linear(in_features=1024, out_features=512, bias=False)\n",
       "      (project_in): Linear(in_features=512, out_features=1024, bias=False)\n",
       "      (layers): ModuleList(\n",
       "        (0-23): 24 x OPTDecoderLayer(\n",
       "          (self_attn): OPTAttention(\n",
       "            (k_proj): Linear(in_features=1024, out_features=1024, bias=True)\n",
       "            (v_proj): Linear(in_features=1024, out_features=1024, bias=True)\n",
       "            (q_proj): Linear(in_features=1024, out_features=1024, bias=True)\n",
       "            (out_proj): Linear(in_features=1024, out_features=1024, bias=True)\n",
       "          )\n",
       "          (activation_fn): ReLU()\n",
       "          (self_attn_layer_norm): LayerNorm((1024,), eps=1e-05, elementwise_affine=True)\n",
       "          (fc1): Linear(in_features=1024, out_features=4096, bias=True)\n",
       "          (fc2): Linear(in_features=4096, out_features=1024, bias=True)\n",
       "          (final_layer_norm): LayerNorm((1024,), eps=1e-05, elementwise_affine=True)\n",
       "        )\n",
       "      )\n",
       "    )\n",
       "  )\n",
       "  (lm_head): Linear(in_features=512, out_features=50272, bias=False)\n",
       ")"
      ]
     },
     "execution_count": 11,
     "metadata": {},
     "output_type": "execute_result"
    }
   ],
   "source": [
    "generator.model"
   ]
  },
  {
   "cell_type": "code",
   "execution_count": 12,
   "id": "56e536ce",
   "metadata": {},
   "outputs": [
    {
     "data": {
      "text/plain": [
       "GPT2TokenizerFast(name_or_path='facebook/opt-350m', vocab_size=50265, model_max_length=1000000000000000019884624838656, is_fast=True, padding_side='right', truncation_side='right', special_tokens={'bos_token': '</s>', 'eos_token': '</s>', 'unk_token': '</s>', 'pad_token': '<pad>'}, clean_up_tokenization_spaces=False, added_tokens_decoder={\n",
       "\t1: AddedToken(\"<pad>\", rstrip=False, lstrip=False, single_word=False, normalized=True, special=True),\n",
       "\t2: AddedToken(\"</s>\", rstrip=False, lstrip=False, single_word=False, normalized=True, special=True),\n",
       "}\n",
       ")"
      ]
     },
     "execution_count": 12,
     "metadata": {},
     "output_type": "execute_result"
    }
   ],
   "source": [
    "generator.tokenizer"
   ]
  },
  {
   "cell_type": "markdown",
   "id": "81877883",
   "metadata": {},
   "source": [
    "Basic completion withi opt-350: https://huggingface.co/docs/transformers/en/model_doc/opt"
   ]
  },
  {
   "cell_type": "code",
   "execution_count": 18,
   "id": "03af7d8c",
   "metadata": {},
   "outputs": [],
   "source": [
    "from transformers import OPTForCausalLM, GPT2Tokenizer\n",
    "import torch"
   ]
  },
  {
   "cell_type": "code",
   "execution_count": 19,
   "id": "13249316",
   "metadata": {},
   "outputs": [],
   "source": [
    "base_model = AutoModelForCausalLM.from_pretrained(\"facebook/opt-350m\", torch_dtype=torch.float16) \n",
    "tokenizer = GPT2Tokenizer.from_pretrained(\"facebook/opt-350m\")\n"
   ]
  },
  {
   "cell_type": "code",
   "execution_count": 20,
   "id": "b8c7b1f0",
   "metadata": {},
   "outputs": [],
   "source": [
    "prompt = \"What are we haveing for lunch?\""
   ]
  },
  {
   "cell_type": "code",
   "execution_count": 21,
   "id": "caaba978",
   "metadata": {},
   "outputs": [],
   "source": [
    "device = \"cuda\""
   ]
  },
  {
   "cell_type": "code",
   "execution_count": 23,
   "id": "d58db189",
   "metadata": {},
   "outputs": [],
   "source": [
    "input = tokenizer([prompt], return_tensors=\"pt\").to(device)"
   ]
  },
  {
   "cell_type": "code",
   "execution_count": 25,
   "id": "6c4e10bf",
   "metadata": {},
   "outputs": [
    {
     "data": {
      "text/plain": [
       "OPTForCausalLM(\n",
       "  (model): OPTModel(\n",
       "    (decoder): OPTDecoder(\n",
       "      (embed_tokens): Embedding(50272, 512, padding_idx=1)\n",
       "      (embed_positions): OPTLearnedPositionalEmbedding(2050, 1024)\n",
       "      (project_out): Linear(in_features=1024, out_features=512, bias=False)\n",
       "      (project_in): Linear(in_features=512, out_features=1024, bias=False)\n",
       "      (layers): ModuleList(\n",
       "        (0-23): 24 x OPTDecoderLayer(\n",
       "          (self_attn): OPTAttention(\n",
       "            (k_proj): Linear(in_features=1024, out_features=1024, bias=True)\n",
       "            (v_proj): Linear(in_features=1024, out_features=1024, bias=True)\n",
       "            (q_proj): Linear(in_features=1024, out_features=1024, bias=True)\n",
       "            (out_proj): Linear(in_features=1024, out_features=1024, bias=True)\n",
       "          )\n",
       "          (activation_fn): ReLU()\n",
       "          (self_attn_layer_norm): LayerNorm((1024,), eps=1e-05, elementwise_affine=True)\n",
       "          (fc1): Linear(in_features=1024, out_features=4096, bias=True)\n",
       "          (fc2): Linear(in_features=4096, out_features=1024, bias=True)\n",
       "          (final_layer_norm): LayerNorm((1024,), eps=1e-05, elementwise_affine=True)\n",
       "        )\n",
       "      )\n",
       "    )\n",
       "  )\n",
       "  (lm_head): Linear(in_features=512, out_features=50272, bias=False)\n",
       ")"
      ]
     },
     "execution_count": 25,
     "metadata": {},
     "output_type": "execute_result"
    }
   ],
   "source": [
    "base_model.to(device)"
   ]
  },
  {
   "cell_type": "code",
   "execution_count": 26,
   "id": "3afc4159",
   "metadata": {},
   "outputs": [],
   "source": [
    "ids = base_model.generate(**input, max_new_tokens=30, do_sample=False)"
   ]
  },
  {
   "cell_type": "code",
   "execution_count": 27,
   "id": "fb70bf82",
   "metadata": {},
   "outputs": [
    {
     "data": {
      "text/plain": [
       "\"</s>What are we haveing for lunch?\\nI'm not sure, but I'm sure it's something like a sandwich.</s>\""
      ]
     },
     "execution_count": 27,
     "metadata": {},
     "output_type": "execute_result"
    }
   ],
   "source": [
    "tokenizer.batch_decode(ids)[0]"
   ]
  },
  {
   "cell_type": "markdown",
   "id": "c5522977",
   "metadata": {},
   "source": [
    "### SFT basic \n",
    "\n",
    "Following SFTTrainer quickstart: https://huggingface.co/docs/trl/sft_trainer#quickstart"
   ]
  },
  {
   "cell_type": "code",
   "execution_count": 1,
   "id": "ac1ccf6b",
   "metadata": {},
   "outputs": [
    {
     "name": "stderr",
     "output_type": "stream",
     "text": [
      "/home/grim/projects/school/forklift/venv/lib/python3.12/site-packages/tqdm/auto.py:21: TqdmWarning: IProgress not found. Please update jupyter and ipywidgets. See https://ipywidgets.readthedocs.io/en/stable/user_install.html\n",
      "  from .autonotebook import tqdm as notebook_tqdm\n"
     ]
    }
   ],
   "source": [
    "from trl import SFTTrainer, SFTConfig\n",
    "from datasets import load_dataset"
   ]
  },
  {
   "cell_type": "code",
   "execution_count": 2,
   "id": "cc52ffbf",
   "metadata": {},
   "outputs": [],
   "source": [
    "dataset = load_dataset(\"stanfordnlp/imdb\", split=\"train\")"
   ]
  },
  {
   "cell_type": "code",
   "execution_count": 3,
   "id": "341b74c6",
   "metadata": {},
   "outputs": [
    {
     "name": "stderr",
     "output_type": "stream",
     "text": [
      "average_tokens_across_devices is set to True but it is invalid when world size is1. Turn it to False automatically.\n"
     ]
    }
   ],
   "source": [
    "training_args = SFTConfig(\n",
    "    max_length=512, \n",
    "    output_dir=\"/tmp\"\n",
    ")"
   ]
  },
  {
   "cell_type": "code",
   "execution_count": 4,
   "id": "21407ddc",
   "metadata": {},
   "outputs": [
    {
     "name": "stderr",
     "output_type": "stream",
     "text": [
      "Adding EOS to train dataset: 100%|██████████| 25000/25000 [00:00<00:00, 63726.33 examples/s]\n",
      "Tokenizing train dataset: 100%|██████████| 25000/25000 [00:08<00:00, 2849.69 examples/s]\n",
      "Truncating train dataset: 100%|██████████| 25000/25000 [00:00<00:00, 961123.38 examples/s]\n"
     ]
    }
   ],
   "source": [
    "trainer = SFTTrainer(\n",
    "    \"facebook/opt-350m\", \n",
    "    train_dataset=dataset, \n",
    "    args=training_args,\n",
    ")"
   ]
  },
  {
   "cell_type": "code",
   "execution_count": null,
   "id": "ece81d86",
   "metadata": {},
   "outputs": [],
   "source": [
    "trainer.train()"
   ]
  },
  {
   "cell_type": "code",
   "execution_count": null,
   "id": "0d198a2a",
   "metadata": {},
   "outputs": [],
   "source": [
    "path = \"models/facebook_opt-350m-imdb\"\n",
    "trainer.save_model(path)"
   ]
  },
  {
   "cell_type": "markdown",
   "id": "78eb7ddc",
   "metadata": {},
   "source": [
    "#### Analysis"
   ]
  },
  {
   "cell_type": "markdown",
   "id": "45e0c379",
   "metadata": {},
   "source": [
    "Saved abvoe results of training iterations to ../data/opt-350m .. load it below and check the loss. \n",
    "\n",
    "Output summary: \n",
    "TrainOutput(\n",
    "    global_step=9375\n",
    "    training_loss=3.160156956685384\n",
    "    metrics={'train_runtime': 2571.3119\n",
    "    'train_samples_per_second': 29.168\n",
    "    'train_steps_per_second': 3.646\n",
    "    'total_flos': 6.521855721721037e+16\n",
    "    'train_loss': 3.160156956685384})"
   ]
  },
  {
   "cell_type": "code",
   "execution_count": 1,
   "id": "9f9d17f4",
   "metadata": {},
   "outputs": [],
   "source": [
    "import pandas as pd"
   ]
  },
  {
   "cell_type": "code",
   "execution_count": 9,
   "id": "ea93cb06",
   "metadata": {},
   "outputs": [
    {
     "data": {
      "text/html": [
       "<div>\n",
       "<style scoped>\n",
       "    .dataframe tbody tr th:only-of-type {\n",
       "        vertical-align: middle;\n",
       "    }\n",
       "\n",
       "    .dataframe tbody tr th {\n",
       "        vertical-align: top;\n",
       "    }\n",
       "\n",
       "    .dataframe thead th {\n",
       "        text-align: right;\n",
       "    }\n",
       "</style>\n",
       "<table border=\"1\" class=\"dataframe\">\n",
       "  <thead>\n",
       "    <tr style=\"text-align: right;\">\n",
       "      <th></th>\n",
       "      <th>Step</th>\n",
       "      <th>Training Loss</th>\n",
       "    </tr>\n",
       "  </thead>\n",
       "  <tbody>\n",
       "    <tr>\n",
       "      <th>0</th>\n",
       "      <td>10</td>\n",
       "      <td>3.4630</td>\n",
       "    </tr>\n",
       "    <tr>\n",
       "      <th>1</th>\n",
       "      <td>20</td>\n",
       "      <td>3.4235</td>\n",
       "    </tr>\n",
       "    <tr>\n",
       "      <th>2</th>\n",
       "      <td>30</td>\n",
       "      <td>3.4364</td>\n",
       "    </tr>\n",
       "    <tr>\n",
       "      <th>3</th>\n",
       "      <td>40</td>\n",
       "      <td>3.4477</td>\n",
       "    </tr>\n",
       "    <tr>\n",
       "      <th>4</th>\n",
       "      <td>50</td>\n",
       "      <td>3.5022</td>\n",
       "    </tr>\n",
       "  </tbody>\n",
       "</table>\n",
       "</div>"
      ],
      "text/plain": [
       "   Step  Training Loss\n",
       "0    10         3.4630\n",
       "1    20         3.4235\n",
       "2    30         3.4364\n",
       "3    40         3.4477\n",
       "4    50         3.5022"
      ]
     },
     "execution_count": 9,
     "metadata": {},
     "output_type": "execute_result"
    }
   ],
   "source": [
    "df = pd.read_csv(\"../data/opt-350m-imdb-finetune.csv\", sep='\\t')\n",
    "df.head()"
   ]
  },
  {
   "cell_type": "code",
   "execution_count": 22,
   "id": "992bbe0f",
   "metadata": {},
   "outputs": [
    {
     "data": {
      "text/plain": [
       "<Axes: title={'center': 'SFT on Meta OPT-350M, 3 epochs'}, xlabel='Step'>"
      ]
     },
     "execution_count": 22,
     "metadata": {},
     "output_type": "execute_result"
    },
    {
     "data": {
      "image/png": "[encoded data removed]",
      "text/plain": [
       "<Figure size 640x480 with 1 Axes>"
      ]
     },
     "metadata": {},
     "output_type": "display_data"
    }
   ],
   "source": [
    "df.plot(x='Step', y='Training Loss', title=\"SFT on Meta OPT-350M, 3 epochs\")"
   ]
  },
  {
   "cell_type": "markdown",
   "id": "ba1fb0f9",
   "metadata": {},
   "source": [
    "Not a pretty curve! We are sort of lurching toward lower loss here"
   ]
  },
  {
   "cell_type": "markdown",
   "id": "e415e424",
   "metadata": {},
   "source": [
    "❗ TODO: compare how the base model and fine-tuned models respond to the movie review prompts... what's changed after 3 epochs? what evaluation criteria allow me to detect these changes? "
   ]
  },
  {
   "cell_type": "code",
   "execution_count": null,
   "id": "a3248685",
   "metadata": {},
   "outputs": [],
   "source": [
    "trainer.model"
   ]
  },
  {
   "cell_type": "markdown",
   "id": "faea24ba",
   "metadata": {},
   "source": [
    "### RL/DPO\n",
    "\n",
    "DPO test w/ Qwen 2.5 - 0.5B\n",
    "\n",
    "This model is a compact and is still perhaps SoTA for SLMs. However it is a straight up hallucination machine when asked questions about libraries or codebases it's not actually been trained on. This provides a great foundation for the Forklist project, if we can get the model to actually report interest stuff about the target repository, and perhaps reason about same, we'll have demonstrated a notable new feature in it's training. Baseline will have to include performance on benchmarks perhaps? We could see how it's behavior on these benchmarks changes with SFT and RL? \n",
    "\n",
    "Anyway, give this a shot with the DPO tutorial: https://github.com/huggingface/trl/tree/main?tab=readme-ov-file#dpotrainer"
   ]
  },
  {
   "cell_type": "code",
   "execution_count": null,
   "id": "9f9603ff",
   "metadata": {},
   "outputs": [],
   "source": [
    "z"
   ]
  },
  {
   "cell_type": "markdown",
   "id": "bc1fd7c8",
   "metadata": {},
   "source": [
    "## Inference w/ Base Model \n",
    "\n",
    "Once testing above is complete, move on to SFT + RL on our real target"
   ]
  },
  {
   "cell_type": "markdown",
   "id": "1d5216b8",
   "metadata": {},
   "source": [
    "## Qwen2 0.5B\n",
    "\n",
    "Per the HF LLM leaderboard, Qweb2.5 0.5B is still SoTA: https://huggingface.co/spaces/open-llm-leaderboard/open_llm_leaderboard#/?params=-1%2C1&official=true\n",
    "\n",
    "https://huggingface.co/Qwen/Qwen2.5-0.5B-Instruct"
   ]
  },
  {
   "cell_type": "code",
   "execution_count": 6,
   "id": "493c4b80",
   "metadata": {},
   "outputs": [],
   "source": [
    "from transformers import AutoModelForCausalLM, AutoTokenizer\n",
    "model_name = \"Qwen/Qwen2.5-0.5B-Instruct\"\n",
    "\n",
    "model = AutoModelForCausalLM.from_pretrained(\n",
    "    model_name, \n",
    "    torch_dtype=\"auto\", \n",
    "    device_map=\"auto\"\n",
    ")"
   ]
  },
  {
   "cell_type": "code",
   "execution_count": null,
   "id": "9be9bd71",
   "metadata": {},
   "outputs": [],
   "source": [
    "tokenizer = AutoTokenizer.from_pretrained(model_name)"
   ]
  },
  {
   "cell_type": "markdown",
   "id": "377a1b82",
   "metadata": {},
   "source": [
    "## SFT"
   ]
  },
  {
   "cell_type": "markdown",
   "id": "8ebbbe5a",
   "metadata": {},
   "source": [
    "## Inference w/ fine-tuned model"
   ]
  },
  {
   "cell_type": "markdown",
   "id": "07336d0e",
   "metadata": {},
   "source": [
    "## RL "
   ]
  },
  {
   "cell_type": "markdown",
   "id": "bdd30abb",
   "metadata": {},
   "source": []
  }
 ],
 "metadata": {
  "kernelspec": {
   "display_name": "venv",
   "language": "python",
   "name": "python3"
  },
  "language_info": {
   "codemirror_mode": {
    "name": "ipython",
    "version": 3
   },
   "file_extension": ".py",
   "mimetype": "text/x-python",
   "name": "python",
   "nbconvert_exporter": "python",
   "pygments_lexer": "ipython3",
   "version": "3.12.2"
  }
 },
 "nbformat": 4,
 "nbformat_minor": 5
}
